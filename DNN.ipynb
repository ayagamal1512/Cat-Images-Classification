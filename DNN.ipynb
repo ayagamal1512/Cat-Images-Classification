{
 "cells": [
  {
   "cell_type": "code",
   "execution_count": 1,
   "metadata": {},
   "outputs": [],
   "source": [
    "import numpy as np \n",
    "import matplotlib.pyplot as plt\n",
    "import random"
   ]
  },
  {
   "cell_type": "code",
   "execution_count": 2,
   "metadata": {},
   "outputs": [],
   "source": [
    "X_train = np.loadtxt('G:\\Data Science\\DL Specialization\\Multi-layers cat\\cat_train_x.csv',delimiter=',')/255.0\n",
    "Y_train = np.loadtxt('G:\\Data Science\\DL Specialization\\Multi-layers cat\\cat_train_y.csv',delimiter=',').reshape(1,X_train.shape[1])\n",
    "\n",
    "X_test = np.loadtxt('G:\\Data Science\\DL Specialization\\Multi-layers cat\\cat_test_x.csv',delimiter=',')/255.0\n",
    "Y_test = np.loadtxt('G:\\Data Science\\DL Specialization\\Multi-layers cat\\cat_test_y.csv',delimiter=',').reshape(1,X_test.shape[1])\n"
   ]
  },
  {
   "cell_type": "code",
   "execution_count": 3,
   "metadata": {},
   "outputs": [
    {
     "data": {
      "text/plain": [
       "((12288, 209), (1, 209), (12288, 50), (1, 50))"
      ]
     },
     "execution_count": 3,
     "metadata": {},
     "output_type": "execute_result"
    }
   ],
   "source": [
    "X_train.shape, Y_train.shape, X_test.shape, Y_test.shape #shape: (number of features, number of examples)"
   ]
  },
  {
   "cell_type": "code",
   "execution_count": 4,
   "metadata": {},
   "outputs": [
    {
     "data": {
      "image/png": "[encoded data removed]",
      "text/plain": [
       "<Figure size 640x480 with 1 Axes>"
      ]
     },
     "metadata": {},
     "output_type": "display_data"
    }
   ],
   "source": [
    "index = random.randrange(0, X_train.shape[1])\n",
    "\n",
    "# Display the image at the selected index\n",
    "index = random.randrange(0, X_train.shape[1])\n",
    "plt.imshow(X_train[:, index].reshape(64,64, 3))\n",
    "plt.show()"
   ]
  },
  {
   "cell_type": "markdown",
   "metadata": {},
   "source": [
    "### Activation Functions"
   ]
  },
  {
   "cell_type": "code",
   "execution_count": 5,
   "metadata": {},
   "outputs": [],
   "source": [
    "def tanh(x):\n",
    "    return np.tanh(x)\n",
    "\n",
    "def sigmoid(z): #only in the binary classification problem in the output layer\n",
    "    A= 1/(1+np.exp(-z))\n",
    "    return A\n",
    "\n",
    "def softmax(z): #only in the multi-class classification problem\n",
    "    np.exp(z)/np.sum(np.exp(z),axis=0)\n",
    "\n",
    "def relu(z):\n",
    "    A= np.maximum(0,z)\n",
    "    return A"
   ]
  },
  {
   "cell_type": "markdown",
   "metadata": {},
   "source": [
    "### Derivatives of Activation Functions "
   ]
  },
  {
   "cell_type": "code",
   "execution_count": 6,
   "metadata": {},
   "outputs": [],
   "source": [
    "def tanh_prime(x):\n",
    "    return 1-np.power(tanh(x),2)\n",
    "\n",
    "def relu_prime(x):\n",
    "    return np.array(x>0).astype(float)\n"
   ]
  },
  {
   "cell_type": "markdown",
   "metadata": {},
   "source": [
    "### Intializing Parameters"
   ]
  },
  {
   "cell_type": "code",
   "execution_count": 7,
   "metadata": {},
   "outputs": [],
   "source": [
    "\n",
    "def initialize_parameters(layer_dims):\n",
    "    np.random.seed(1)\n",
    "    parameters = {}\n",
    "    L = len(layer_dims)-1 # number of layers in the network (because the last layer does not have weights and biases associated with it)\n",
    "    for l in range(1, L+1):\n",
    "        parameters['W' + str(l)] = np.random.randn(layer_dims[l], layer_dims[l-1]) * np.sqrt(2/layer_dims[l-1])\n",
    "        parameters['b' + str(l)] = np.zeros((layer_dims[l], 1))\n",
    "    return parameters\n",
    "\n"
   ]
  },
  {
   "cell_type": "code",
   "execution_count": 8,
   "metadata": {},
   "outputs": [
    {
     "name": "stdout",
     "output_type": "stream",
     "text": [
      "Shape of W1: (100, 12288)\n",
      "Shape of B1: (100, 1) \n",
      "\n",
      "Shape of W2: (200, 100)\n",
      "Shape of B2: (200, 1) \n",
      "\n",
      "Shape of W3: (1, 200)\n",
      "Shape of B3: (1, 1) \n",
      "\n"
     ]
    }
   ],
   "source": [
    "layer_dims = [X_train.shape[0], 100, 200, Y_train.shape[0]]\n",
    "params = initialize_parameters(layer_dims)\n",
    "\n",
    "for l in range(1, len(layer_dims)):\n",
    "    print(\"Shape of W\" + str(l) + \":\", params['W' + str(l)].shape)\n",
    "    print(\"Shape of B\" + str(l) + \":\", params['b' + str(l)].shape, \"\\n\")"
   ]
  },
  {
   "cell_type": "markdown",
   "metadata": {},
   "source": [
    "### Forward Propagation"
   ]
  },
  {
   "cell_type": "code",
   "execution_count": 9,
   "metadata": {},
   "outputs": [],
   "source": [
    "def forward_propagation(X, parameters,activation='relu'):\n",
    "    L = len(parameters)//2\n",
    "    caches = {}\n",
    "    A = X\n",
    "    for l in range(1, L):\n",
    "        A_prev = A\n",
    "        W = parameters['W' + str(l)]\n",
    "        b = parameters['b' + str(l)]\n",
    "        Z = np.dot(W, A_prev) + b\n",
    "        if activation=='relu':\n",
    "            A = relu(Z)\n",
    "        elif activation=='tanh':\n",
    "            A = tanh(Z)\n",
    "\n",
    "        caches['A' + str(l)] = A_prev\n",
    "        caches['W' + str(l)] = W\n",
    "        caches['b' + str(l)] = b\n",
    "        caches['Z' + str(l)] = Z\n",
    "    \n",
    "    # Handle the final layer separately\n",
    "    WL = parameters['W' + str(L)]\n",
    "    bL = parameters['b' + str(L)]\n",
    "    ZL = np.dot(WL, A) + bL\n",
    "    \n",
    "    if ZL.shape[0] == 1:\n",
    "        AL = sigmoid(ZL)\n",
    "    else:\n",
    "        AL = softmax(ZL)\n",
    "    \n",
    "    caches['A' + str(L)] = A\n",
    "    caches['W' + str(L)] = WL\n",
    "    caches['b' + str(L)] = bL\n",
    "    caches['Z' + str(L)] = ZL\n",
    "    \n",
    "    return AL, caches"
   ]
  },
  {
   "cell_type": "markdown",
   "metadata": {},
   "source": [
    "### Cost Function \n",
    "- Since this is a single class problem not a multi-class the cost function will be \n",
    "    \n",
    "$Cost = - \\frac{1}{m}\\sum_{i=1}^{m}\\sum_{k=1}^{n}[ y_k*log(a_k) ]$\n",
    "\n"
   ]
  },
  {
   "cell_type": "code",
   "execution_count": 10,
   "metadata": {},
   "outputs": [],
   "source": [
    "def cost_function(AL, Y):\n",
    "    m = Y.shape[1]\n",
    "    cost = -np.sum(Y*np.log(AL) + (1-Y)*np.log(1-AL))/m\n",
    "    cost = np.squeeze(cost)\n",
    "    return cost"
   ]
  },
  {
   "cell_type": "markdown",
   "metadata": {},
   "source": [
    "### Back Propaggation"
   ]
  },
  {
   "cell_type": "code",
   "execution_count": 1,
   "metadata": {},
   "outputs": [],
   "source": [
    "def back_propagation(AL, Y,parameters,caches, activation):\n",
    "    grads = {}\n",
    "    L = len(parameters)//2\n",
    "    m = AL.shape[1]\n",
    "    \n",
    "    # Compute the gradient of the cost with respect to AL\n",
    "    dAL = - (np.divide(Y, AL) - np.divide(1 - Y, 1 - AL))\n",
    "     \n",
    "    A_prev = caches['A' + str(L-1)]\n",
    "    W = caches['W' + str(L)]\n",
    "    b = caches['b' + str(L)]\n",
    "    Z = caches['Z' + str(L)]\n",
    "     \n",
    "    dZ = AL - Y\n",
    "    dW = np.dot(dZ, A_prev.T)/m\n",
    "    db = np.sum(dZ, axis=1, keepdims=True)/m\n",
    "    dA_prev = np.dot(W.T, dZ)\n",
    "    \n",
    "    grads['dW' + str(L)] = dW\n",
    "    grads['db' + str(L)] = db\n",
    "    \n",
    "    # Loop through the rest of the layers\n",
    "    for l in reversed(range(1, L)):\n",
    "        A = caches['A' + str(l)]\n",
    "        W = caches['W' + str(l)]\n",
    "        b = caches['b' + str(l)]\n",
    "        Z = caches['Z' + str(l)]\n",
    "        \n",
    "        if activation=='relu':\n",
    "            dZ = dA_prev * relu_prime(Z)\n",
    "        elif activation=='tanh':\n",
    "            dZ = dA_prev * tanh_prime(Z)\n",
    "        \n",
    "        dW = np.dot(dZ, A.T)/m\n",
    "        db = np.sum(dZ, axis=1, keepdims=True)/m\n",
    "        if l != 1:\n",
    "            dA_prev = np.dot(W.T, dZ)\n",
    "        \n",
    "        grads['dW' + str(l)] = dW\n",
    "        grads['db' + str(l)] = db\n",
    "    \n",
    "    return grads"
   ]
  },
  {
   "cell_type": "code",
   "execution_count": null,
   "metadata": {},
   "outputs": [],
   "source": []
  }
 ],
 "metadata": {
  "kernelspec": {
   "display_name": "Python 3",
   "language": "python",
   "name": "python3"
  },
  "language_info": {
   "codemirror_mode": {
    "name": "ipython",
    "version": 3
   },
   "file_extension": ".py",
   "mimetype": "text/x-python",
   "name": "python",
   "nbconvert_exporter": "python",
   "pygments_lexer": "ipython3",
   "version": "3.11.9"
  }
 },
 "nbformat": 4,
 "nbformat_minor": 2
}
