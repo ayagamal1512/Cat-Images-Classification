{
 "cells": [
  {
   "cell_type": "code",
   "execution_count": 1,
   "metadata": {},
   "outputs": [],
   "source": [
    "import numpy as np \n",
    "import matplotlib.pyplot as plt\n",
    "import random"
   ]
  },
  {
   "cell_type": "code",
   "execution_count": 2,
   "metadata": {},
   "outputs": [],
   "source": [
    "X_train = np.loadtxt('G:\\Data Science\\DL Specialization\\Multi-layers cat\\cat_train_x.csv',delimiter=',')/255.0\n",
    "Y_train = np.loadtxt('G:\\Data Science\\DL Specialization\\Multi-layers cat\\cat_train_y.csv',delimiter=',').reshape(1,X_train.shape[1])\n",
    "\n",
    "X_test = np.loadtxt('G:\\Data Science\\DL Specialization\\Multi-layers cat\\cat_test_x.csv',delimiter=',')/255.0\n",
    "Y_test = np.loadtxt('G:\\Data Science\\DL Specialization\\Multi-layers cat\\cat_test_y.csv',delimiter=',').reshape(1,X_test.shape[1])\n"
   ]
  },
  {
   "cell_type": "code",
   "execution_count": 3,
   "metadata": {},
   "outputs": [
    {
     "data": {
      "text/plain": [
       "((12288, 209), (1, 209), (12288, 50), (1, 50))"
      ]
     },
     "execution_count": 3,
     "metadata": {},
     "output_type": "execute_result"
    }
   ],
   "source": [
    "X_train.shape, Y_train.shape, X_test.shape, Y_test.shape #shape: (number of features, number of examples)"
   ]
  },
  {
   "cell_type": "code",
   "execution_count": 4,
   "metadata": {},
   "outputs": [
    {
     "data": {
      "image/png": "[encoded data removed]",
      "text/plain": [
       "<Figure size 640x480 with 1 Axes>"
      ]
     },
     "metadata": {},
     "output_type": "display_data"
    }
   ],
   "source": [
    "index = random.randrange(0, X_train.shape[1])\n",
    "\n",
    "# Display the image at the selected index\n",
    "index = random.randrange(0, X_train.shape[1])\n",
    "plt.imshow(X_train[:, index].reshape(64,64, 3))\n",
    "plt.show()"
   ]
  },
  {
   "cell_type": "markdown",
   "metadata": {},
   "source": [
    "### Activation Functions"
   ]
  },
  {
   "cell_type": "code",
   "execution_count": 5,
   "metadata": {},
   "outputs": [],
   "source": [
    "def tanh(x):\n",
    "    return np.tanh(x)\n",
    "\n",
    "def sigmoid(z): #only in the binary classification problem in the output layer\n",
    "    A= 1/(1+np.exp(-z))\n",
    "    return A\n",
    "\n",
    "# def softmax(z): #only in the multi-class classification problem\n",
    "#     np.exp(z)/np.sum(np.exp(z),axis=0)\n",
    "\n",
    "def relu(z):\n",
    "    A= np.maximum(0,z)\n",
    "    return A"
   ]
  },
  {
   "cell_type": "markdown",
   "metadata": {},
   "source": [
    "### Derivatives of Activation Functions "
   ]
  },
  {
   "cell_type": "code",
   "execution_count": 6,
   "metadata": {},
   "outputs": [],
   "source": [
    "# def tanh_prime(x):\n",
    "#     return 1-np.power(tanh(x),2)\n",
    "\n",
    "def relu_prime(x):\n",
    "    return np.array(x>0).astype(float)\n"
   ]
  },
  {
   "cell_type": "markdown",
   "metadata": {},
   "source": [
    "### Intializing Parameters"
   ]
  },
  {
   "cell_type": "code",
   "execution_count": 7,
   "metadata": {},
   "outputs": [],
   "source": [
    "\n",
    "def initialize_parameters(layer_dims):\n",
    "    np.random.seed(1)\n",
    "    parameters = {}\n",
    "    L = len(layer_dims)-1 # number of layers in the network (because the last layer does not have weights and biases associated with it)\n",
    "    for l in range(1, L+1):\n",
    "        parameters['W' + str(l)] = np.random.randn(layer_dims[l], layer_dims[l-1]) * np.sqrt(2/layer_dims[l-1])\n",
    "        parameters['b' + str(l)] = np.zeros((layer_dims[l], 1))\n",
    "    return parameters\n",
    "\n"
   ]
  },
  {
   "cell_type": "code",
   "execution_count": null,
   "metadata": {},
   "outputs": [],
   "source": []
  },
  {
   "cell_type": "code",
   "execution_count": 8,
   "metadata": {},
   "outputs": [
    {
     "name": "stdout",
     "output_type": "stream",
     "text": [
      "Shape of W1: (100, 12288)\n",
      "Shape of B1: (100, 1) \n",
      "\n",
      "Shape of W2: (200, 100)\n",
      "Shape of B2: (200, 1) \n",
      "\n",
      "Shape of W3: (1, 200)\n",
      "Shape of B3: (1, 1) \n",
      "\n"
     ]
    }
   ],
   "source": [
    "layer_dims = [X_train.shape[0], 100, 200, Y_train.shape[0]]\n",
    "params = initialize_parameters(layer_dims)\n",
    "\n",
    "for l in range(1, len(layer_dims)):\n",
    "    print(\"Shape of W\" + str(l) + \":\", params['W' + str(l)].shape)\n",
    "    print(\"Shape of B\" + str(l) + \":\", params['b' + str(l)].shape, \"\\n\")"
   ]
  },
  {
   "cell_type": "markdown",
   "metadata": {},
   "source": [
    "### Forward Propagation"
   ]
  },
  {
   "cell_type": "code",
   "execution_count": 9,
   "metadata": {},
   "outputs": [],
   "source": [
    "def forward_propagation(X, parameters):\n",
    "    L = len(parameters) // 2\n",
    "    caches = {}\n",
    "    A = X\n",
    "    \n",
    "    for l in range(1, L):\n",
    "        A_prev = A\n",
    "        W = parameters['W' + str(l)]\n",
    "        b = parameters['b' + str(l)]\n",
    "        Z = np.dot(W, A_prev) + b\n",
    "        A = relu(Z)\n",
    "        \n",
    "        caches['A' + str(l)] = A_prev\n",
    "        caches['W' + str(l)] = W\n",
    "        caches['b' + str(l)] = b\n",
    "        caches['Z' + str(l)] = Z\n",
    "    \n",
    "    # Handle the final layer separately\n",
    "    WL = parameters['W' + str(L)]\n",
    "    bL = parameters['b' + str(L)]\n",
    "    ZL = np.dot(WL, A) + bL\n",
    "    AL = sigmoid(ZL)\n",
    "    \n",
    "    caches['A' + str(L)] = A\n",
    "    caches['W' + str(L)] = WL\n",
    "    caches['b' + str(L)] = bL\n",
    "    caches['Z' + str(L)] = ZL\n",
    "    \n",
    "    return AL, caches"
   ]
  },
  {
   "cell_type": "markdown",
   "metadata": {},
   "source": [
    "### Cost Function \n",
    "- Since this is a single class problem not a multi-class the cost function will be \n",
    "    \n",
    "$Cost = - \\frac{1}{m}\\sum_{i=1}^{m}\\sum_{k=1}^{n}[ y_k*log(a_k) ]$\n",
    "\n"
   ]
  },
  {
   "cell_type": "code",
   "execution_count": 10,
   "metadata": {},
   "outputs": [],
   "source": [
    "def cost_function(AL, Y):\n",
    "    m = Y.shape[1]\n",
    "    cost = -np.sum(Y*np.log(AL) + (1-Y)*np.log(1-AL))/m\n",
    "    cost = np.squeeze(cost)\n",
    "    return cost"
   ]
  },
  {
   "cell_type": "markdown",
   "metadata": {},
   "source": [
    "### Back Propaggation"
   ]
  },
  {
   "cell_type": "code",
   "execution_count": 11,
   "metadata": {},
   "outputs": [],
   "source": [
    "def back_propagation(AL, Y, parameters, caches):\n",
    "    grads = {}\n",
    "    L = len(parameters) // 2\n",
    "    m = AL.shape[1]\n",
    "    \n",
    "    # Compute the gradient of the cost with respect to AL\n",
    "    dZ = AL - Y\n",
    "    A_prev = caches['A' + str(L-1)]\n",
    "    W = parameters['W' + str(L)]\n",
    "    b = parameters['b' + str(L)]\n",
    "    \n",
    "    dW = np.dot(dZ, A_prev.T) / m\n",
    "    db = np.sum(dZ, axis=1, keepdims=True) / m\n",
    "    dA_prev = np.dot(W.T, dZ)\n",
    "    \n",
    "    grads['dW' + str(L)] = dW\n",
    "    grads['db' + str(L)] = db\n",
    "    \n",
    "    # Loop through the rest of the layers\n",
    "    for l in reversed(range(1, L)):\n",
    "        A_prev = caches['A' + str(l)]\n",
    "        W = parameters['W' + str(l)]\n",
    "        b = parameters['b' + str(l)]\n",
    "        Z = caches['Z' + str(l)]\n",
    "        \n",
    "        dZ = dA_prev * relu_prime(Z)\n",
    "        dW = np.dot(dZ, A_prev.T) / m\n",
    "        db = np.sum(dZ, axis=1, keepdims=True) / m\n",
    "        dA_prev = np.dot(W.T, dZ)\n",
    "        \n",
    "        grads['dW' + str(l)] = dW\n",
    "        grads['db' + str(l)] = db\n",
    "    \n",
    "    return grads"
   ]
  },
  {
   "cell_type": "markdown",
   "metadata": {},
   "source": [
    "### Updating Parameters"
   ]
  },
  {
   "cell_type": "code",
   "execution_count": 12,
   "metadata": {},
   "outputs": [],
   "source": [
    "def update_parameters(parameters, grads, learning_rate):\n",
    "    L = len(parameters)//2\n",
    "    for l in range(1, L):\n",
    "        parameters['W' + str(l)] = parameters['W' + str(l)] - learning_rate*grads['dW' + str(l)]\n",
    "        parameters['b' + str(l)] = parameters['b' + str(l)] - learning_rate*grads['db' + str(l)]\n",
    "    return parameters"
   ]
  },
  {
   "cell_type": "markdown",
   "metadata": {},
   "source": [
    "### DNN Complete Model"
   ]
  },
  {
   "cell_type": "code",
   "execution_count": 13,
   "metadata": {},
   "outputs": [],
   "source": [
    "def dnn_model(X, Y, layer_dims, learning_rate = 0.05, num_iterations = 2500):\n",
    "    parameters = initialize_parameters(layer_dims)\n",
    "    costs = []\n",
    "    for i in range(num_iterations):\n",
    "\n",
    "        AL, caches = forward_propagation(X, parameters)\n",
    "        cost = cost_function(AL, Y)\n",
    "        grads = back_propagation(AL, Y,parameters,caches)\n",
    "        parameters = update_parameters(parameters, grads, learning_rate)\n",
    "\n",
    "        if i % 100 == 0:\n",
    "            print(\"Cost after iteration %i: %f\" %(i, cost))\n",
    "            costs.append(cost)\n",
    "    return parameters, costs"
   ]
  },
  {
   "cell_type": "code",
   "execution_count": 14,
   "metadata": {},
   "outputs": [
    {
     "name": "stdout",
     "output_type": "stream",
     "text": [
      "Cost after iteration 0: 0.764543\n",
      "Cost after iteration 100: 0.551250\n",
      "Cost after iteration 200: 0.363003\n",
      "Cost after iteration 300: 0.373044\n",
      "Cost after iteration 400: 0.256984\n",
      "Cost after iteration 500: 1.827079\n",
      "Cost after iteration 600: 0.089003\n",
      "Cost after iteration 700: 0.024954\n",
      "Cost after iteration 800: 0.013652\n",
      "Cost after iteration 900: 0.009473\n",
      "Cost after iteration 1000: 0.007192\n",
      "Cost after iteration 1100: 0.005738\n",
      "Cost after iteration 1200: 0.004729\n",
      "Cost after iteration 1300: 0.003982\n",
      "Cost after iteration 1400: 0.003424\n",
      "Cost after iteration 1500: 0.002995\n",
      "Cost after iteration 1600: 0.002655\n",
      "Cost after iteration 1700: 0.002383\n",
      "Cost after iteration 1800: 0.002153\n",
      "Cost after iteration 1900: 0.001962\n",
      "Cost after iteration 2000: 0.001805\n",
      "Cost after iteration 2100: 0.001664\n",
      "Cost after iteration 2200: 0.001547\n",
      "Cost after iteration 2300: 0.001440\n",
      "Cost after iteration 2400: 0.001347\n",
      "[np.float64(0.7645430805621383), np.float64(0.5512499672865563), np.float64(0.3630026072410833), np.float64(0.3730444331453079), np.float64(0.25698422667215454), np.float64(1.8270787336942802), np.float64(0.08900323831307874), np.float64(0.024953821761641678), np.float64(0.01365188706849427), np.float64(0.009472598042333772), np.float64(0.007191965589029261), np.float64(0.005738296148883301), np.float64(0.004728747104483331), np.float64(0.003982347632153749), np.float64(0.0034242034573127773), np.float64(0.002994648597739171), np.float64(0.0026549232732678623), np.float64(0.0023831915425579207), np.float64(0.0021528180545681837), np.float64(0.0019624317975226228), np.float64(0.0018045587015494936), np.float64(0.0016644488995361483), np.float64(0.0015465521823404954), np.float64(0.0014402652808216997), np.float64(0.001346645624248713)]\n"
     ]
    }
   ],
   "source": [
    "parameters,cost=dnn_model(X_train, Y_train, layer_dims, learning_rate = 0.05, num_iterations = 2500)\n",
    "print(cost)\n"
   ]
  },
  {
   "cell_type": "code",
   "execution_count": 15,
   "metadata": {},
   "outputs": [],
   "source": [
    "def predict(X, parameters):\n",
    "    AL, _ = forward_propagation(X, parameters)\n",
    "    predictions = np.array(AL > 0.5).astype(int)\n",
    "    return predictions"
   ]
  },
  {
   "cell_type": "code",
   "execution_count": 93,
   "metadata": {},
   "outputs": [
    {
     "name": "stdout",
     "output_type": "stream",
     "text": [
      "Test accuracy: 80.00%\n"
     ]
    },
    {
     "data": {
      "image/png": "[encoded data removed]",
      "text/plain": [
       "<Figure size 640x480 with 1 Axes>"
      ]
     },
     "metadata": {},
     "output_type": "display_data"
    },
    {
     "name": "stdout",
     "output_type": "stream",
     "text": [
      "Predicted probabilities: [[0.95646376]]\n",
      "Our model says it is: cat\n"
     ]
    }
   ],
   "source": [
    "predictions = predict(X_test, parameters)\n",
    "accuracy_test = np.mean(predictions == Y_test) * 100\n",
    "print(\"Test accuracy: {:.2f}%\".format(accuracy_test))\n",
    "\n",
    "idx = int(random.randrange(0, X_test.shape[1]))\n",
    "\n",
    "plt.imshow(X_test[:, idx].reshape((64, 64, 3)))\n",
    "plt.show()\n",
    "A2, _ = forward_propagation(X_test[:, idx].reshape(X_test[:, idx].shape[0], 1), parameters)\n",
    "print(\"Predicted probabilities:\", A2)\n",
    "a_pred = (A2 > 0.5).astype(int)\n",
    "# Map the predicted class to a label\n",
    "label = \"cat\" if a_pred[0, 0] == 1 else \"not cat\"\n",
    "print(\"Our model says it is:\", label)"
   ]
  },
  {
   "cell_type": "code",
   "execution_count": null,
   "metadata": {},
   "outputs": [],
   "source": []
  }
 ],
 "metadata": {
  "kernelspec": {
   "display_name": "Python 3",
   "language": "python",
   "name": "python3"
  },
  "language_info": {
   "codemirror_mode": {
    "name": "ipython",
    "version": 3
   },
   "file_extension": ".py",
   "mimetype": "text/x-python",
   "name": "python",
   "nbconvert_exporter": "python",
   "pygments_lexer": "ipython3",
   "version": "3.11.9"
  }
 },
 "nbformat": 4,
 "nbformat_minor": 2
}
